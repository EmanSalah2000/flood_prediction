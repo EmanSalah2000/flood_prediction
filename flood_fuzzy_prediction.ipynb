{
  "nbformat": 4,
  "nbformat_minor": 0,
  "metadata": {
    "colab": {
      "name": "flood_fuzzy_prediction.ipynb",
      "provenance": [],
      "authorship_tag": "ABX9TyPmTbv0j8VDNfpH8qI16mIf",
      "include_colab_link": true
    },
    "kernelspec": {
      "name": "python3",
      "display_name": "Python 3"
    },
    "language_info": {
      "name": "python"
    }
  },
  "cells": [
    {
      "cell_type": "markdown",
      "metadata": {
        "id": "view-in-github",
        "colab_type": "text"
      },
      "source": [
        "<a href=\"https://colab.research.google.com/github/EmanSalah2000/flood_prediction/blob/main/flood_fuzzy_prediction.ipynb\" target=\"_parent\"><img src=\"https://colab.research.google.com/assets/colab-badge.svg\" alt=\"Open In Colab\"/></a>"
      ]
    },
    {
      "cell_type": "code",
      "source": [
        "!pip install -U scikit-fuzzy\n",
        "import numpy as np\n",
        "import skfuzzy as fuzz\n",
        "import matplotlib .pyplot as plt\n",
        "import sys\n"
      ],
      "metadata": {
        "colab": {
          "base_uri": "https://localhost:8080/"
        },
        "id": "cg3Iy5UHIxIY",
        "outputId": "4cba672e-f701-4caa-b672-11415b2f3d15"
      },
      "execution_count": 28,
      "outputs": [
        {
          "output_type": "stream",
          "name": "stdout",
          "text": [
            "Looking in indexes: https://pypi.org/simple, https://us-python.pkg.dev/colab-wheels/public/simple/\n",
            "Requirement already satisfied: scikit-fuzzy in /usr/local/lib/python3.7/dist-packages (0.4.2)\n",
            "Requirement already satisfied: networkx>=1.9.0 in /usr/local/lib/python3.7/dist-packages (from scikit-fuzzy) (2.6.3)\n",
            "Requirement already satisfied: scipy>=0.9.0 in /usr/local/lib/python3.7/dist-packages (from scikit-fuzzy) (1.4.1)\n",
            "Requirement already satisfied: numpy>=1.6.0 in /usr/local/lib/python3.7/dist-packages (from scikit-fuzzy) (1.21.6)\n"
          ]
        }
      ]
    },
    {
      "cell_type": "code",
      "source": [
        "# values to predict the flood \n",
        "CURRENT_RIVER_LEVEL = 4\n",
        "CURRENT_RAINFALL = 288"
      ],
      "metadata": {
        "id": "dePOOErJIzME"
      },
      "execution_count": 29,
      "outputs": []
    },
    {
      "cell_type": "code",
      "source": [
        "# inputs    riverlevel    rainfall\n",
        "x_riverlevel = np.arange(0, 6, 1)\n",
        "x_rainfall = np.arange(0, 300, 1)\n",
        "# output  flood status\n",
        "x_floodstatus = np.arange(0, 10, 1)"
      ],
      "metadata": {
        "id": "81N612qjI7cM"
      },
      "execution_count": 30,
      "outputs": []
    },
    {
      "cell_type": "code",
      "source": [
        "# print(\"x_riverlevel: \" + str(x_riverlevel))\n",
        "# print(\"x_rainfall: \" + str(x_rainfall))\n",
        "# print(\"x_floodstatus\"+ str(x_floodstatus))\n"
      ],
      "metadata": {
        "id": "uLT3Lh67JJWs"
      },
      "execution_count": 31,
      "outputs": []
    },
    {
      "cell_type": "code",
      "source": [
        "#generating fuzzy membership value\n",
        "#river membership value\n",
        "riverlevel_normal = fuzz.trimf(x_riverlevel, [0,1,2])\n",
        "# print(\"riverlevel_normal: \" + str(riverlevel_normal))\n",
        "riverlevel_berjaga = fuzz.trimf(x_riverlevel, [1,2,3])\n",
        "# print(\"riverlevel_berjaga: \" + str(riverlevel_berjaga))\n",
        "riverlevel_amaran = fuzz.trimf(x_riverlevel, [2,3,4])\n",
        "# print(\"riverlevel_amaran: \" + str(riverlevel_amaran))\n",
        "riverlevel_bahaya = fuzz.trimf(x_riverlevel, [3,4,5])\n",
        "# print(\"riverlevel_bahaya: \" + str(riverlevel_bahaya))"
      ],
      "metadata": {
        "id": "Xa2sw6hUJOLF"
      },
      "execution_count": 32,
      "outputs": []
    },
    {
      "cell_type": "code",
      "source": [
        "#rainfall membership value\n",
        "rainfall_low = fuzz.trimf(x_rainfall, [0, 30, 61])\n",
        "# print(\"rainfall_low: \" + str(rainfall_low))\n",
        "rainfall_moderate = fuzz.trimf(x_rainfall, [40, 122, 183])\n",
        "# print(\"rainfall_moderate: \" + str(rainfall_moderate))\n",
        "rainfall_high = fuzz.trimf(x_rainfall, [160, 200, 300])\n",
        "# print(\"rainfall_high: \" + str(rainfall_high))"
      ],
      "metadata": {
        "id": "2sswxrYTJXnF"
      },
      "execution_count": 33,
      "outputs": []
    },
    {
      "cell_type": "code",
      "source": [
        "#floodstatus using trapezoidal mf\n",
        "flood_none = fuzz.trapmf(x_floodstatus, [0, 1, 2, 3])\n",
        "# print(\"flood_none: \" + str(flood_none))\n",
        "flood_minor = fuzz.trapmf(x_floodstatus, [1, 3, 4, 5])\n",
        "# print(\"flood_minor: \" + str(flood_minor))\n",
        "flood_moderate = fuzz.trimf(x_floodstatus, [4, 5, 6])\n",
        "# print(\"flood_moderate: \" + str(flood_moderate))\n",
        "flood_major = fuzz.trapmf(x_floodstatus, [5.5, 6, 7, 9])\n",
        "# print(\"flood_major: \" + str(flood_major))"
      ],
      "metadata": {
        "id": "wp-Ho_mcJhAQ"
      },
      "execution_count": 34,
      "outputs": []
    },
    {
      "cell_type": "code",
      "source": [
        "#River level\n",
        "fig, ax = plt.subplots()\n",
        "ax.set_title('River Level')\n",
        "ax.set_xlabel('River level')\n",
        "ax.plot(x_riverlevel, riverlevel_normal,linewidth=1.5, label='normal')\n",
        "ax.plot(x_riverlevel, riverlevel_berjaga,linewidth=1.5, label='berjaga')\n",
        "ax.plot(x_riverlevel, riverlevel_amaran,linewidth=1.5, label='amaran')\n",
        "ax.plot(x_riverlevel, riverlevel_bahaya,linewidth=1.5, label='bahaya')\n",
        "ax.legend()\n",
        "plt.axis([0, 5, 0, 1])\n",
        "#plt.show()"
      ],
      "metadata": {
        "colab": {
          "base_uri": "https://localhost:8080/",
          "height": 313
        },
        "id": "xUHyEjqdJkb7",
        "outputId": "a18eb558-143a-4932-9774-a957e8c32836"
      },
      "execution_count": 35,
      "outputs": [
        {
          "output_type": "execute_result",
          "data": {
            "text/plain": [
              "(0.0, 5.0, 0.0, 1.0)"
            ]
          },
          "metadata": {},
          "execution_count": 35
        },
        {
          "output_type": "display_data",
          "data": {
            "text/plain": [
              "<Figure size 432x288 with 1 Axes>"
            ],
            "image/png": "[encoded data removed]"
          },
          "metadata": {
            "needs_background": "light"
          }
        }
      ]
    },
    {
      "cell_type": "code",
      "source": [
        "#Rainfall\n",
        "fig, ax = plt.subplots()\n",
        "ax.set_title('Rainfall')\n",
        "ax.set_xlabel('Amount of rainfall')\n",
        "ax.plot(x_rainfall, rainfall_low, linewidth=1.5, label='low')\n",
        "ax.plot(x_rainfall, rainfall_moderate, linewidth=1.5, label='moderate')\n",
        "ax.plot(x_rainfall, rainfall_high, linewidth=1.5, label='heavy')\n",
        "ax.legend()\n",
        "plt.axis([0, 300, 0, 1])\n",
        "#plt.show()"
      ],
      "metadata": {
        "colab": {
          "base_uri": "https://localhost:8080/",
          "height": 313
        },
        "id": "9pQfu_cBJ4QM",
        "outputId": "2702146d-5ec4-426e-8c71-24af4d56e012"
      },
      "execution_count": 36,
      "outputs": [
        {
          "output_type": "execute_result",
          "data": {
            "text/plain": [
              "(0.0, 300.0, 0.0, 1.0)"
            ]
          },
          "metadata": {},
          "execution_count": 36
        },
        {
          "output_type": "display_data",
          "data": {
            "text/plain": [
              "<Figure size 432x288 with 1 Axes>"
            ],
            "image/png": "[encoded data removed]"
          },
          "metadata": {
            "needs_background": "light"
          }
        }
      ]
    },
    {
      "cell_type": "code",
      "source": [
        "#Flood Status\n",
        "fig, ax = plt.subplots()\n",
        "ax.set_title('Flood Status')\n",
        "ax.set_xlabel('Flood condition')\n",
        "ax.plot(x_floodstatus, flood_none, linewidth=1.5, label='No Flood')\n",
        "ax.plot(x_floodstatus, flood_minor, linewidth=1.5, label='Minor Flood')\n",
        "ax.plot(x_floodstatus, flood_moderate, linewidth=1.5, label='Moderate Flood')\n",
        "ax.plot(x_floodstatus, flood_major, linewidth=1.5, label='Major Flood')\n",
        "\"\"\"ax.plot(x_floodstatus, flood_extreme, linewidth=1.5, label='Extreme Flood')\"\"\"\n",
        "ax.legend()\n",
        "plt.axis([0, 10, 0, 1])\n",
        "#plt.show()"
      ],
      "metadata": {
        "colab": {
          "base_uri": "https://localhost:8080/",
          "height": 313
        },
        "id": "_BlHQjJZJ7D4",
        "outputId": "c3da3a76-6215-4d91-e058-dfe81f3d5ee5"
      },
      "execution_count": 37,
      "outputs": [
        {
          "output_type": "execute_result",
          "data": {
            "text/plain": [
              "(0.0, 10.0, 0.0, 1.0)"
            ]
          },
          "metadata": {},
          "execution_count": 37
        },
        {
          "output_type": "display_data",
          "data": {
            "text/plain": [
              "<Figure size 432x288 with 1 Axes>"
            ],
            "image/png": "[encoded data removed]"
          },
          "metadata": {
            "needs_background": "light"
          }
        }
      ]
    },
    {
      "cell_type": "code",
      "source": [
        "#checking the value for the membership function river level\n",
        "river_level_norm = fuzz.interp_membership(x_riverlevel, riverlevel_normal, CURRENT_RIVER_LEVEL)\n",
        "print(\"river_level_norm: \" + str(river_level_norm))\n",
        "river_level_berjaga = fuzz.interp_membership(x_riverlevel, riverlevel_berjaga, CURRENT_RIVER_LEVEL)\n",
        "print(\"river_level_berjaga: \" + str(river_level_berjaga))\n",
        "river_level_amaran = fuzz.interp_membership(x_riverlevel, riverlevel_amaran, CURRENT_RIVER_LEVEL)\n",
        "print(\"river_level_amaran: \" + str(river_level_amaran))\n",
        "river_level_bahaya = fuzz.interp_membership(x_riverlevel, riverlevel_bahaya, CURRENT_RIVER_LEVEL)\n",
        "print(\"river_level_bahaya: \" + str(river_level_bahaya))"
      ],
      "metadata": {
        "colab": {
          "base_uri": "https://localhost:8080/"
        },
        "id": "fGIK7-aLJ-C4",
        "outputId": "e55b3a0f-c8e7-4b1b-e43c-29d2482ba002"
      },
      "execution_count": 38,
      "outputs": [
        {
          "output_type": "stream",
          "name": "stdout",
          "text": [
            "river_level_norm: 0.0\n",
            "river_level_berjaga: 0.0\n",
            "river_level_amaran: 0.0\n",
            "river_level_bahaya: 1.0\n"
          ]
        }
      ]
    },
    {
      "cell_type": "code",
      "source": [
        "#checking the value for the membership function rainfall\n",
        "rainfall_low = fuzz.interp_membership(x_rainfall, rainfall_low, CURRENT_RAINFALL)\n",
        "print(\"rainfall_low: \" + str(rainfall_low))\n",
        "rainfall_moderate = fuzz.interp_membership(x_rainfall, rainfall_moderate, CURRENT_RAINFALL)\n",
        "print(\"rainfall_moderate: \" + str(rainfall_moderate))\n",
        "rainfall_high = fuzz.interp_membership(x_rainfall, rainfall_high, CURRENT_RAINFALL)\n",
        "print(\"rainfall_high: \" + str(rainfall_high))"
      ],
      "metadata": {
        "colab": {
          "base_uri": "https://localhost:8080/"
        },
        "id": "L9iSThR2KCmQ",
        "outputId": "15deb2dd-2bb7-4c66-a1d8-af1fd59ce6d3"
      },
      "execution_count": 39,
      "outputs": [
        {
          "output_type": "stream",
          "name": "stdout",
          "text": [
            "rainfall_low: 0.0\n",
            "rainfall_moderate: 0.0\n",
            "rainfall_high: 0.12\n"
          ]
        }
      ]
    },
    {
      "cell_type": "code",
      "source": [
        "results = dict()"
      ],
      "metadata": {
        "id": "oTQuDv1mKTT0"
      },
      "execution_count": 40,
      "outputs": []
    },
    {
      "cell_type": "code",
      "source": [
        "#rules evaluation\n",
        "\n",
        "#in min-max algorithm, fmin is equivalent to AND, fmax is equivalent to OR\n",
        "\n",
        "######################################################################################################\n",
        "#Rule 1 no flood -> river level normal\n",
        "active_flood_none = np.fmin(river_level_norm, flood_none)\n",
        "print(\"\\nFlood None: \" + str(active_flood_none))\n",
        "#####################################################################################################\n",
        "#Rule 2 minor flood -> rainfall moderate + river level berjaga || normal\n",
        "combined_river_level1 = np.fmax(river_level_berjaga, river_level_norm) # level normal OR berjaga\n",
        "combined_attrib = np.fmin(rainfall_moderate, combined_river_level1) # AND moderate rainfall\n",
        "active_flood_minor = np.fmin(combined_attrib, flood_minor)\n",
        "print(\"\\nFlood Minor: \" + str(active_flood_minor))\n",
        "####################################################################################################\n",
        "#Rule 3 moderate flood -> rainfall moderate + river level berjaga || amaran\n",
        "combined_river_level3 = np.fmax(river_level_berjaga, river_level_amaran) # level normal OR berjaga\n",
        "combined_attrib2 = np.fmin(rainfall_moderate, combined_river_level3) # AND moderate rainfall\n",
        "active_flood_moderate = np.fmin(rainfall_moderate, flood_moderate)\n",
        "print(\"\\nFlood Moderate: \" + str(active_flood_moderate))\n",
        "######################################################################################################\n",
        "#Rule 4 major flood -> rainfall high + river level amaran || bahaya                     \n",
        "combined_river_level2 = np.fmax(river_level_amaran, river_level_bahaya) # level normal OR berjaga\n",
        "combined_attrib3 = np.fmin(rainfall_high, combined_river_level2) # AND moderate rainfall\n",
        "active_flood_major = np.fmin(combined_attrib3, flood_major)\n",
        "print(\"\\nFlood Major: \" + str(active_flood_major))"
      ],
      "metadata": {
        "colab": {
          "base_uri": "https://localhost:8080/"
        },
        "id": "4af-TEI5Ko1U",
        "outputId": "62b35ed7-8161-4dc7-e461-4ffb59ebc5ce"
      },
      "execution_count": 41,
      "outputs": [
        {
          "output_type": "stream",
          "name": "stdout",
          "text": [
            "\n",
            "Flood None: [0. 0. 0. 0. 0. 0. 0. 0. 0. 0.]\n",
            "\n",
            "Flood Minor: [0. 0. 0. 0. 0. 0. 0. 0. 0. 0.]\n",
            "\n",
            "Flood Moderate: [0. 0. 0. 0. 0. 0. 0. 0. 0. 0.]\n",
            "\n",
            "Flood Major: [0.   0.   0.   0.   0.   0.   0.12 0.12 0.12 0.  ]\n"
          ]
        }
      ]
    },
    {
      "cell_type": "code",
      "source": [
        "#Rules aggregation\n",
        "aggregated = np.fmax(active_flood_none, np.fmax(active_flood_minor, np.fmax(active_flood_moderate, active_flood_major)))\n",
        "print(\"\\nAggregated Value: \" + str(aggregated))"
      ],
      "metadata": {
        "colab": {
          "base_uri": "https://localhost:8080/"
        },
        "id": "FgxK8VPYMm__",
        "outputId": "402334b0-7444-4926-98df-4518ee206db6"
      },
      "execution_count": 42,
      "outputs": [
        {
          "output_type": "stream",
          "name": "stdout",
          "text": [
            "\n",
            "Aggregated Value: [0.   0.   0.   0.   0.   0.   0.12 0.12 0.12 0.  ]\n"
          ]
        }
      ]
    },
    {
      "cell_type": "code",
      "source": [
        "#using bisector\n",
        "#flood_stats2 = fuzz.defuzz(x_floodstatus, aggregated, 'bisector')\n",
        "#using mean of max\n",
        "#flood_stats3 = fuzz.defuzz(x_floodstatus, aggregated, 'som')\n",
        "#using max of maximum\n",
        "#flood_stats4 = fuzz.defuzz(x_floodstatus, aggregated, 'lom')\n",
        "#calculating defuzzified value\n",
        "#using centroid method\n",
        "flood_stats = fuzz.defuzz(x_floodstatus, aggregated, 'centroid')\n",
        "print(\"\\nFlood Status: \" + str(flood_stats))\n",
        "plt.show()"
      ],
      "metadata": {
        "colab": {
          "base_uri": "https://localhost:8080/"
        },
        "id": "AgYVa9cWMr48",
        "outputId": "f9e30ede-2bbe-4a19-cbd6-52b5ab9a1f76"
      },
      "execution_count": 43,
      "outputs": [
        {
          "output_type": "stream",
          "name": "stdout",
          "text": [
            "\n",
            "Flood Status: 7.0\n"
          ]
        }
      ]
    },
    {
      "cell_type": "code",
      "source": [
        "print(flood_stats)"
      ],
      "metadata": {
        "colab": {
          "base_uri": "https://localhost:8080/"
        },
        "id": "V1GD44EuNIhE",
        "outputId": "27259eee-22c0-4759-c4f9-e3cf1b4ba888"
      },
      "execution_count": 56,
      "outputs": [
        {
          "output_type": "stream",
          "name": "stdout",
          "text": [
            "7.0\n"
          ]
        }
      ]
    },
    {
      "cell_type": "code",
      "source": [
        "if flood_stats <=2:\n",
        "        print(\"#############\")\n",
        "        print(\"No Flood. Check River Level\")\n",
        "elif flood_stats <=4:\n",
        "    if flood_stats >2:\n",
        "        print(\"#############\")\n",
        "        print(\"Minor Flood might happen. Check river level for high tides\")\n",
        "elif flood_stats <=6:\n",
        "    if flood_stats >4:\n",
        "        print(\"#############\")\n",
        "        print(\"Moderate flood. Prepare for evacuation.\")\n",
        "elif flood_stats <=9:\n",
        "    if flood_stats >6:\n",
        "        print(\"#############\")\n",
        "        print(\"Major flood. Code Red. Evacuation is a must\")"
      ],
      "metadata": {
        "colab": {
          "base_uri": "https://localhost:8080/"
        },
        "id": "E2wnReyANeGv",
        "outputId": "4bb0d528-84aa-4517-9ae5-c37e8187774e"
      },
      "execution_count": 61,
      "outputs": [
        {
          "output_type": "stream",
          "name": "stdout",
          "text": [
            "#############\n",
            "Major flood. Code Red. Evacuation is a must\n"
          ]
        }
      ]
    }
  ]
}